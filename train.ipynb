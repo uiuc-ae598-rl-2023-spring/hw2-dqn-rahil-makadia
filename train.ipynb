{
 "cells": [
  {
   "cell_type": "code",
   "execution_count": 1,
   "id": "bb4374ce-9d82-4efd-a60a-174197a074c4",
   "metadata": {},
   "outputs": [
    {
     "name": "stdout",
     "output_type": "stream",
     "text": [
      "cpu\n"
     ]
    }
   ],
   "source": [
    "from DQN import DQN"
   ]
  },
  {
   "cell_type": "code",
   "execution_count": 2,
   "id": "f743e91b-5a67-4ad7-893c-a1ed08f8212c",
   "metadata": {},
   "outputs": [],
   "source": [
    "def main():\n",
    "    env = discreteaction_pendulum.Pendulum()\n",
    "    gamma = 0.95\n",
    "    epsilon = 1.0\n",
    "    epsilon_min = 0.1\n",
    "    learning_rate = 0.00025\n",
    "    batch_size = 32\n",
    "    replay_size = 100000\n",
    "    init_replay_size = 500\n",
    "    target_update = 1000\n",
    "    savefig = True\n",
    "    dqn = DQN(env, gamma, epsilon, epsilon_min, learning_rate, batch_size, replay_size, init_replay_size, target_update, savefig)\n",
    "\n",
    "    num_episodes = 150\n",
    "    dqn.run(num_episodes)\n",
    "    return None"
   ]
  },
  {
   "cell_type": "code",
   "execution_count": 3,
   "id": "cccfe044-1879-4308-afdc-276f89452335",
   "metadata": {},
   "outputs": [],
   "source": [
    "import torch"
   ]
  },
  {
   "cell_type": "code",
   "execution_count": 5,
   "id": "9bdb3591-b363-40ba-ae17-fb12c2622886",
   "metadata": {},
   "outputs": [
    {
     "name": "stdout",
     "output_type": "stream",
     "text": [
      "cpu\n"
     ]
    }
   ],
   "source": [
    "device = torch.device(\"cuda:0\" if torch.cuda.is_available() else \"cpu\")\n",
    "print(device)"
   ]
  }
 ],
 "metadata": {
  "kernelspec": {
   "display_name": "ae-598-rl",
   "language": "python",
   "name": "python3"
  },
  "language_info": {
   "codemirror_mode": {
    "name": "ipython",
    "version": 3
   },
   "file_extension": ".py",
   "mimetype": "text/x-python",
   "name": "python",
   "nbconvert_exporter": "python",
   "pygments_lexer": "ipython3",
   "version": "3.10.9"
  }
 },
 "nbformat": 4,
 "nbformat_minor": 5
}
